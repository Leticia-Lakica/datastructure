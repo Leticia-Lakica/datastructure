{
 "cells": [
  {
   "cell_type": "code",
   "execution_count": null,
   "metadata": {},
   "outputs": [],
   "source": [
    "#LAKICA LETICIA\n",
    "#M23B23/023\n",
    "\n",
    "#SCENARIO 1\n",
    "\n",
    "hat = [1,2,3,4,5]\n",
    "\n",
    "numnber = input(\"PLEASE ENTER ANY NUMBER:\")\n",
    "hat[2] = number\n",
    "print(hat)\n",
    "\n",
    "del hat[-1]\n",
    "\n",
    "print(hat)\n",
    "\n",
    "\n",
    "print(len(hat))\n"
   ]
  },
  {
   "cell_type": "code",
   "execution_count": null,
   "metadata": {},
   "outputs": [],
   "source": [
    "#SCENARIO 2\n",
    "#Create an empty list named beatles\n",
    "\n",
    "beatles = []\n",
    "\n",
    "#add elements to the list\n",
    "beatles.append(\"John Lennon\")\n",
    "beatles.append(\"Paul McCartney\")\n",
    "beatles.append(\"George Harrison\")\n",
    "beatles.append(\"Richard Starkey\")\n",
    "\n",
    "print(beatles)\n",
    "#prompting user to add element to the list\n",
    "for i in range(2):\n",
    "    names = input(\"Enter names(Stu Stucliffe and Pete Best):\")\n",
    "    beatles.append(names)\n",
    "\n",
    "#removing elements from the list   \n",
    "print(beatles)  \n",
    "del(beatles[3]) \n",
    "del(beatles[3])\n",
    "\n",
    "#Inserting elements into the list\n",
    "beatles.insert(0,\"Ringo Stark\")\n",
    "print(beatles)\n",
    "\n",
    "print(beatles)\n",
    "\n",
    "#Inserting elements at the begining of the list\n",
    "del beatles[4]\n",
    "del beatles[3]\n",
    "\n",
    "#Inserting elements at the begining of the list\n",
    "beatles.insert(0,\"Ringo Starr\")\n",
    "\n",
    "print(beatles)\n",
    "\n",
    "\n"
   ]
  },
  {
   "cell_type": "code",
   "execution_count": null,
   "metadata": {},
   "outputs": [],
   "source": [
    "#SCENARIO 3\n",
    "#Creating an empty list\n",
    "My_list = [1,10,9,8,7,6,5,4,1,4,5]\n",
    "\n",
    "#Delete repeated values in the list using the set and list function\n",
    "number = list(set(My_list))"
   ]
  }
 ],
 "metadata": {
  "kernelspec": {
   "display_name": "Python 3",
   "language": "python",
   "name": "python3"
  },
  "language_info": {
   "name": "python",
   "version": "3.11.4"
  },
  "orig_nbformat": 4
 },
 "nbformat": 4,
 "nbformat_minor": 2
}
